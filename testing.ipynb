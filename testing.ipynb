{
 "cells": [
  {
   "cell_type": "code",
   "execution_count": 7,
   "metadata": {},
   "outputs": [
    {
     "data": {
      "text/plain": [
       "13"
      ]
     },
     "execution_count": 7,
     "metadata": {},
     "output_type": "execute_result"
    }
   ],
   "source": [
    "class Player:\n",
    "    def __init__(self, name, kills, deaths, wins, losses):\n",
    "        self.name = name\n",
    "        self.kills = kills\n",
    "        self.deaths = deaths\n",
    "        self.wins = wins\n",
    "        self.losses = losses\n",
    "\n",
    "p1 = Player('Cat', 2, 2, 2, 2)\n",
    "p1.kills += 11\n",
    "p1.kills"
   ]
  },
  {
   "cell_type": "code",
   "execution_count": null,
   "metadata": {},
   "outputs": [],
   "source": [
    "import pickle\n",
    "\n",
    "def save_object(obj, fname):\n",
    "    try:\n",
    "        with open(fname, \"wb\") as f:\n",
    "            pickle.dump(obj, f, protocol=pickle.HIGHEST_PROTOCOL)\n",
    "    except Exception as ex:\n",
    "        print(\"Error during pickling object (Possibly unsupported):\", ex)\n",
    "\n",
    "\n",
    "def load_object(filename):\n",
    "    try:\n",
    "        with open(filename, \"rb\") as f:\n",
    "            return pickle.load(f)\n",
    "    except Exception as ex:\n",
    "        print(\"Error during unpickling object (Possibly unsupported):\", ex)\n",
    "\n",
    "\n",
    "try: \n",
    "    load_object('monkey.pickle')\n",
    "except:\n",
    "    monkey = []\n",
    "    save_object(monkey, 'monkey.pickle')\n"
   ]
  }
 ],
 "metadata": {
  "kernelspec": {
   "display_name": "base",
   "language": "python",
   "name": "python3"
  },
  "language_info": {
   "codemirror_mode": {
    "name": "ipython",
    "version": 3
   },
   "file_extension": ".py",
   "mimetype": "text/x-python",
   "name": "python",
   "nbconvert_exporter": "python",
   "pygments_lexer": "ipython3",
   "version": "3.9.12"
  }
 },
 "nbformat": 4,
 "nbformat_minor": 2
}
