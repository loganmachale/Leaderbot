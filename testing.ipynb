{
 "cells": [
  {
   "cell_type": "code",
   "execution_count": null,
   "metadata": {},
   "outputs": [],
   "source": [
    "class Player:\n",
    "    def __init__(self, name, kd, wl):\n",
    "        self.name = name\n",
    "        self.kd = kd\n",
    "        self.wl = wl\n",
    "\n",
    "p1 = Player('Cat', 2, 2)"
   ]
  }
 ],
 "metadata": {
  "language_info": {
   "name": "python"
  }
 },
 "nbformat": 4,
 "nbformat_minor": 2
}
