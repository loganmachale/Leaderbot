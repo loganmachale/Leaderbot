{
 "cells": [
  {
   "cell_type": "code",
   "execution_count": 2,
   "metadata": {},
   "outputs": [],
   "source": [
    "from discord.ext import commands\n",
    "import discord\n",
    "import pickle\n",
    "import csv\n",
    "import os\n",
    "import numpy as np\n",
    "import scipy.stats as sps\n",
    "import json\n"
   ]
  },
  {
   "cell_type": "code",
   "execution_count": 9,
   "metadata": {},
   "outputs": [
    {
     "name": "stdout",
     "output_type": "stream",
     "text": [
      "KOST  --  K MULTIPLIER  --  Win Elo  --  Loss Elo\n",
      "0.00         x 0.34534                52                   -160\n",
      "0.05         x 0.34770                52                   -159\n",
      "0.10         x 0.35218                53                   -159\n",
      "0.15         x 0.36036                54                   -158\n",
      "0.20         x 0.37456                56                   -156\n",
      "0.25         x 0.39812                60                   -153\n",
      "0.30         x 0.43544                65                   -149\n",
      "0.35         x 0.49190                74                   -143\n",
      "0.40         x 0.57332                86                   -135\n",
      "0.45         x 0.68466                103                   -125\n",
      "0.50         x 0.82797                124                   -113\n",
      "0.55         x 1.00000                150                   -100\n",
      "0.60         x 1.19073                179                   -87\n",
      "0.65         x 1.38440                208                   -74\n",
      "0.70         x 1.56332                234                   -64\n",
      "0.75         x 1.71304                257                   -55\n",
      "0.80         x 1.82621                274                   -49\n",
      "0.85         x 1.90342                286                   -45\n",
      "0.90         x 1.95091                293                   -43\n",
      "0.95         x 1.97726                297                   -41\n",
      "1.00         x 2.00000                300                   -40\n"
     ]
    }
   ],
   "source": [
    "def elo_func(kost, kills, deaths, win):\n",
    "    kost_mu = 0.55\n",
    "    kost_sigma = 0.2\n",
    "    dist = sps.norm(loc=kost_mu, scale=kost_sigma)\n",
    "    p = dist.cdf(kost + ((kost - 0.55) ** 2) / 7 + (kost - 0.55) / 9)\n",
    "\n",
    "    if win:\n",
    "        if int(kost) == 1:\n",
    "            kost_factor = 2\n",
    "        else:    \n",
    "            kost_factor = (np.sqrt(2) - 2 + 2 * (1 - np.sqrt(2)) * p) ** 2\n",
    "        \n",
    "        return round(150 * kost_factor + kills * 10 - deaths * 10)\n",
    "    else:\n",
    "        if int(kost) == 1:\n",
    "            kost_factor = 0.4\n",
    "        else:    \n",
    "            kost_factor = -6 / 5 * p + 1.6\n",
    "        \n",
    "        return round(-100 * kost_factor + kills * 10 - deaths * 10)\n",
    "\n",
    "print('KOST  --  K MULTIPLIER  --  Win Elo  --  Loss Elo')\n",
    "\n",
    "kost = 0.00\n",
    "for i in range(200):\n",
    "    kost_mu = 0.55\n",
    "    kost_sigma = 0.2\n",
    "    dist = sps.norm(loc=kost_mu, scale=kost_sigma)\n",
    "    p = dist.cdf(kost + ((kost - 0.55) ** 2) / 7 + (kost - 0.55) / 9)\n",
    "\n",
    "    if int(kost) == 1:\n",
    "        kost_factor = 2\n",
    "    else:    \n",
    "        kost_factor = (np.sqrt(2) - 2 + 2 * (1 - np.sqrt(2)) * p) ** 2\n",
    "    print('{:.2f}         x {:.5f}                {}                   {}'.format(kost, kost_factor,\n",
    "                                                                                   elo_func(kost, 0, 0, True),\n",
    "                                                                                   elo_func(kost, 0, 0, False)))\n",
    "    kost += 0.05\n",
    "    if kost > 1.04:\n",
    "        break"
   ]
  },
  {
   "cell_type": "code",
   "execution_count": 1,
   "metadata": {},
   "outputs": [
    {
     "ename": "FileNotFoundError",
     "evalue": "[Errno 2] No such file or directory: 'match.json'",
     "output_type": "error",
     "traceback": [
      "\u001b[1;31m---------------------------------------------------------------------------\u001b[0m",
      "\u001b[1;31mFileNotFoundError\u001b[0m                         Traceback (most recent call last)",
      "Cell \u001b[1;32mIn [1], line 13\u001b[0m\n\u001b[0;32m     10\u001b[0m         \u001b[38;5;28mself\u001b[39m\u001b[38;5;241m.\u001b[39mpoints \u001b[38;5;241m=\u001b[39m points\n\u001b[0;32m     11\u001b[0m         \u001b[38;5;28mself\u001b[39m\u001b[38;5;241m.\u001b[39melo \u001b[38;5;241m=\u001b[39m elo\n\u001b[1;32m---> 13\u001b[0m \u001b[38;5;28;01mwith\u001b[39;00m \u001b[38;5;28;43mopen\u001b[39;49m\u001b[43m(\u001b[49m\u001b[38;5;124;43m'\u001b[39;49m\u001b[38;5;124;43mmatch.json\u001b[39;49m\u001b[38;5;124;43m'\u001b[39;49m\u001b[43m)\u001b[49m \u001b[38;5;28;01mas\u001b[39;00m match_json:\n\u001b[0;32m     14\u001b[0m     match_data \u001b[38;5;241m=\u001b[39m json\u001b[38;5;241m.\u001b[39mload(match_json)\n\u001b[0;32m     16\u001b[0m player_data \u001b[38;5;241m=\u001b[39m match_data[\u001b[38;5;124m'\u001b[39m\u001b[38;5;124mper_player\u001b[39m\u001b[38;5;124m'\u001b[39m]\n",
      "File \u001b[1;32mc:\\Users\\logan\\anaconda3\\lib\\site-packages\\IPython\\core\\interactiveshell.py:282\u001b[0m, in \u001b[0;36m_modified_open\u001b[1;34m(file, *args, **kwargs)\u001b[0m\n\u001b[0;32m    275\u001b[0m \u001b[38;5;28;01mif\u001b[39;00m file \u001b[38;5;129;01min\u001b[39;00m {\u001b[38;5;241m0\u001b[39m, \u001b[38;5;241m1\u001b[39m, \u001b[38;5;241m2\u001b[39m}:\n\u001b[0;32m    276\u001b[0m     \u001b[38;5;28;01mraise\u001b[39;00m \u001b[38;5;167;01mValueError\u001b[39;00m(\n\u001b[0;32m    277\u001b[0m         \u001b[38;5;124mf\u001b[39m\u001b[38;5;124m\"\u001b[39m\u001b[38;5;124mIPython won\u001b[39m\u001b[38;5;124m'\u001b[39m\u001b[38;5;124mt let you open fd=\u001b[39m\u001b[38;5;132;01m{\u001b[39;00mfile\u001b[38;5;132;01m}\u001b[39;00m\u001b[38;5;124m by default \u001b[39m\u001b[38;5;124m\"\u001b[39m\n\u001b[0;32m    278\u001b[0m         \u001b[38;5;124m\"\u001b[39m\u001b[38;5;124mas it is likely to crash IPython. If you know what you are doing, \u001b[39m\u001b[38;5;124m\"\u001b[39m\n\u001b[0;32m    279\u001b[0m         \u001b[38;5;124m\"\u001b[39m\u001b[38;5;124myou can use builtins\u001b[39m\u001b[38;5;124m'\u001b[39m\u001b[38;5;124m open.\u001b[39m\u001b[38;5;124m\"\u001b[39m\n\u001b[0;32m    280\u001b[0m     )\n\u001b[1;32m--> 282\u001b[0m \u001b[38;5;28;01mreturn\u001b[39;00m io_open(file, \u001b[38;5;241m*\u001b[39margs, \u001b[38;5;241m*\u001b[39m\u001b[38;5;241m*\u001b[39mkwargs)\n",
      "\u001b[1;31mFileNotFoundError\u001b[0m: [Errno 2] No such file or directory: 'match.json'"
     ]
    }
   ],
   "source": [
    "class Player:\n",
    "    def __init__(self, name: str, kost: float, kills: int, deaths: int, wins: int,\n",
    "                 losses: int, points: int, elo: int):\n",
    "        self.name = name\n",
    "        self.kost = kost\n",
    "        self.kills = kills\n",
    "        self.deaths = deaths\n",
    "        self.wins = wins\n",
    "        self.losses = losses\n",
    "        self.points = points\n",
    "        self.elo = elo\n",
    "\n",
    "with open('match.json') as match_json:\n",
    "    match_data = json.load(match_json)\n",
    "\n",
    "player_data = match_data['per_player']\n",
    "fteam_win = bool(match_data['friendly_win'])\n",
    "\n",
    "f_w = 0\n",
    "e_w = 0\n",
    "\n",
    "if fteam_win:\n",
    "    f_w = 1\n",
    "    e_w = 0\n",
    "else:\n",
    "    f_w = 0\n",
    "    e_w = 1\n",
    "\n",
    "player_list = []\n",
    "\n",
    "for p_id in player_data:\n",
    "    p_dic = player_data[p_id]\n",
    "\n",
    "    if p_dic['team'] == 'friendly':\n",
    "        try:\n",
    "            player = Player(p_dic['name'], float(p_dic['kost'].replace('%', ''))/100, int(p_dic['kills']), int(p_dic['deaths']), f_w, e_w,\n",
    "                            int(p_dic['score']), 0)\n",
    "            player_list.append(player)\n",
    "            print(player.kost)\n",
    "        except:\n",
    "            pass\n",
    "    else:\n",
    "        try:\n",
    "            player = Player(p_dic['name'], float(p_dic['kost'].replace('%', ''))/100, int(p_dic['kills']), int(p_dic['deaths']), e_w, f_w,\n",
    "                            int(p_dic['score']), 0)\n",
    "            player_list.append(player)\n",
    "            print(player.kost)\n",
    "        except:\n",
    "            pass\n",
    "    "
   ]
  }
 ],
 "metadata": {
  "kernelspec": {
   "display_name": "base",
   "language": "python",
   "name": "python3"
  },
  "language_info": {
   "codemirror_mode": {
    "name": "ipython",
    "version": 3
   },
   "file_extension": ".py",
   "mimetype": "text/x-python",
   "name": "python",
   "nbconvert_exporter": "python",
   "pygments_lexer": "ipython3",
   "version": "3.9.12"
  }
 },
 "nbformat": 4,
 "nbformat_minor": 2
}
