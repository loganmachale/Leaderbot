{
 "cells": [
  {
   "cell_type": "code",
   "execution_count": 7,
   "metadata": {},
   "outputs": [
    {
     "data": {
      "text/plain": [
       "13"
      ]
     },
     "execution_count": 7,
     "metadata": {},
     "output_type": "execute_result"
    }
   ],
   "source": [
    "class Player:\n",
    "    def __init__(self, name, kills, deaths, wins, losses):\n",
    "        self.name = name\n",
    "        self.kills = kills\n",
    "        self.deaths = deaths\n",
    "        self.wins = wins\n",
    "        self.losses = losses\n",
    "\n",
    "p1 = Player('Cat', 2, 2, 2, 2)\n",
    "p1.kills += 11\n",
    "p1.kills"
   ]
  }
 ],
 "metadata": {
  "kernelspec": {
   "display_name": "base",
   "language": "python",
   "name": "python3"
  },
  "language_info": {
   "codemirror_mode": {
    "name": "ipython",
    "version": 3
   },
   "file_extension": ".py",
   "mimetype": "text/x-python",
   "name": "python",
   "nbconvert_exporter": "python",
   "pygments_lexer": "ipython3",
   "version": "3.9.12"
  }
 },
 "nbformat": 4,
 "nbformat_minor": 2
}
