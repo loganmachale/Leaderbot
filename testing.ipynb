{
 "cells": [
  {
   "cell_type": "code",
   "execution_count": 1,
   "metadata": {},
   "outputs": [],
   "source": [
    "from discord.ext import commands\n",
    "import discord\n",
    "import pickle\n",
    "import csv\n",
    "import os\n",
    "import numpy as np\n",
    "import scipy.stats as sps\n"
   ]
  },
  {
   "cell_type": "code",
   "execution_count": 165,
   "metadata": {},
   "outputs": [
    {
     "name": "stdout",
     "output_type": "stream",
     "text": [
      "KOST  --  K MULTIPLIER  --  Win Elo\n",
      "0.00         x 0.34534                  52\n",
      "0.05         x 0.34770                  52\n",
      "0.10         x 0.35218                  53\n",
      "0.15         x 0.36036                  54\n",
      "0.20         x 0.37456                  56\n",
      "0.25         x 0.39812                  60\n",
      "0.30         x 0.43544                  65\n",
      "0.35         x 0.49190                  74\n",
      "0.40         x 0.57332                  86\n",
      "0.45         x 0.68466                  103\n",
      "0.50         x 0.82797                  124\n",
      "0.55         x 1.00000                  150\n",
      "0.60         x 1.19073                  179\n",
      "0.65         x 1.38440                  208\n",
      "0.70         x 1.56332                  234\n",
      "0.75         x 1.71304                  257\n",
      "0.80         x 1.82621                  274\n",
      "0.85         x 1.90342                  286\n",
      "0.90         x 1.95091                  293\n",
      "0.95         x 1.97726                  297\n",
      "1.00         x 2.00000                  300\n"
     ]
    }
   ],
   "source": [
    "def elo_func(kost, kills, deaths, win):\n",
    "    kost_mu = 0.55\n",
    "    kost_sigma = 0.2\n",
    "    dist = sps.norm(loc=kost_mu, scale=kost_sigma)\n",
    "    p = dist.cdf(kost + ((kost - 0.55) ** 2) / 7 + (kost - 0.55) / 9)\n",
    "\n",
    "    if int(kost) == 1:\n",
    "        kost_factor = 2\n",
    "    else:    \n",
    "        kost_factor = (np.sqrt(2) - 2 + 2 * (1 - np.sqrt(2)) * p) ** 2\n",
    "\n",
    "    if win:\n",
    "        return round(150 * kost_factor + kills * 10 - deaths * 10)\n",
    "    else:\n",
    "        return round(-100 * (2 + 0.343265 - kost_factor) + kills * 10 - deaths * 10)\n",
    "\n",
    "# print('KOST  --  K MULTIPLIER  --  Win Elo')\n",
    "\n",
    "# kost = 0.00\n",
    "# for i in range(200):\n",
    "#     kost_mu = 0.55\n",
    "#     kost_sigma = 0.2\n",
    "#     dist = sps.norm(loc=kost_mu, scale=kost_sigma)\n",
    "#     p = dist.cdf(kost + ((kost - 0.55) ** 2) / 7 + (kost - 0.55) / 9)\n",
    "\n",
    "#     if int(kost) == 1:\n",
    "#         kost_factor = 2\n",
    "#     else:    \n",
    "#         kost_factor = (np.sqrt(2) - 2 + 2 * (1 - np.sqrt(2)) * p) ** 2\n",
    "#     print('{:.2f}         x {:.5f}                  {}'.format(kost, kost_factor, elo_func(kost, 0, 0, True)))\n",
    "#     kost += 0.05\n",
    "#     if kost > 1.04:\n",
    "#         break"
   ]
  }
 ],
 "metadata": {
  "kernelspec": {
   "display_name": "base",
   "language": "python",
   "name": "python3"
  },
  "language_info": {
   "codemirror_mode": {
    "name": "ipython",
    "version": 3
   },
   "file_extension": ".py",
   "mimetype": "text/x-python",
   "name": "python",
   "nbconvert_exporter": "python",
   "pygments_lexer": "ipython3",
   "version": "3.9.12"
  }
 },
 "nbformat": 4,
 "nbformat_minor": 2
}
